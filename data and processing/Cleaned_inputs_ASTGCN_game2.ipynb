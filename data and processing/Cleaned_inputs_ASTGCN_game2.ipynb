{
 "cells": [
  {
   "cell_type": "code",
   "execution_count": 1,
   "id": "f57386b3",
   "metadata": {},
   "outputs": [],
   "source": [
    "import pandas as pd\n",
    "# from google.colab import drive\n",
    "# import warnings\n",
    "# warnings.filterwarnings(\"ignore\")\n",
    "import sklearn\n",
    "from tqdm import tqdm\n",
    "import networkx as nx\n",
    "from scipy.spatial.distance import cdist\n",
    "import matplotlib.pyplot as plt\n",
    "from sklearn.cluster import SpectralClustering\n",
    "from sklearn.cluster import KMeans\n",
    "from sklearn import preprocessing as p\n",
    "import math\n",
    "import numpy as np\n",
    "import collections\n",
    "from scipy.spatial import Voronoi, voronoi_plot_2d\n",
    "# from shapely.geometry import Polygon\n",
    "import scipy as sp\n",
    "import scipy.spatial\n",
    "import sys\n",
    "import matplotlib.image as mpimg\n",
    "import sklearn.metrics as metrics\n",
    "from sklearn.calibration import calibration_curve\n",
    "from spektral.data import Dataset, Graph, DisjointLoader\n",
    "from spektral.layers import CrystalConv, GlobalAvgPool\n",
    "from tensorflow.keras.layers import Dense, Input, Dropout\n",
    "from tensorflow.keras.losses import BinaryCrossentropy\n",
    "from tensorflow.keras.models import Model\n",
    "from tensorflow.keras.optimizers import Adam\n",
    "from tensorflow.keras.metrics import AUC"
   ]
  },
  {
   "cell_type": "code",
   "execution_count": 2,
   "id": "7de6bfef",
   "metadata": {},
   "outputs": [],
   "source": [
    "folder = r'C:\\Users\\Mahender\\Documents\\MS docs\\Final docs\\Rowan University\\Research_project'"
   ]
  },
  {
   "cell_type": "code",
   "execution_count": 3,
   "id": "3f5e5f63",
   "metadata": {},
   "outputs": [],
   "source": [
    "def data_cleaning(data):\n",
    "    column_names = data.columns.tolist()\n",
    "    if column_names[3] == 'Player11':\n",
    "        data = data.rename(columns={'Player11': '11_x', 'Unnamed: 4': '11_y', 'Player1': '1_x',\n",
    "                                    'Unnamed: 6': '1_y', 'Player2': '2_x', 'Unnamed: 8': '2_y', 'Player3': '3_x',\n",
    "                                    'Unnamed: 10': '3_y',\n",
    "                                    'Player4': '4_x', 'Unnamed: 12': '4_y', 'Player5': '5_x', 'Unnamed: 14': '5_y',\n",
    "                                    'Player6': '6_x',\n",
    "                                    'Unnamed: 16': '6_y', 'Player7': '7_x', 'Unnamed: 18': '7_y', 'Player8': '8_x',\n",
    "                                    'Unnamed: 20': '8_y',\n",
    "                                    'Player9': '9_x', 'Unnamed: 22': '9_y', 'Player10': '10_x', 'Unnamed: 24': '10_y',\n",
    "                                    'Player12': '12_x',\n",
    "                                    'Unnamed: 26': '12_y', 'Player13': '13_x', 'Unnamed: 28': '13_y',\n",
    "                                    'Player14': '14_x', 'Unnamed: 30': '14_y',\n",
    "                                    'Ball': 'Ball_x', 'Unnamed: 32': 'Ball_y'}).copy()\n",
    "        data.loc[95703:, '4_x'] = data.loc[95703:, '12_x']\n",
    "        data.loc[95703:, '4_y'] = data.loc[95703:, '12_y']\n",
    "        data.loc[106111:, '8_x'] = data.loc[106111:, '13_x']\n",
    "        data.loc[106111:, '8_y'] = data.loc[106111:, '13_y']\n",
    "        data.loc[125738:, '10_x'] = data.loc[125738:, '14_x']\n",
    "        data.loc[125738:, '10_y'] = data.loc[125738:, '14_y']\n",
    "\n",
    "        data.to_csv('outputaw_data.csv', header=True)\n",
    "\n",
    "        data = data.drop(['12_x', '12_y', '13_x', '13_y', '14_x', '14_y'], axis=1).copy()\n",
    "        data = data.reindex(\n",
    "            ['Period', 'Time [s]', '1_x', '1_y', '2_x', '2_y', '3_x', '3_y', '4_x', '4_y', '5_x', '5_y', '6_x', '6_y',\n",
    "             '7_x', '7_y', '8_x',\n",
    "             '8_y', '9_x', '9_y', '10_x', '10_y', '11_x', '11_y', 'Ball_x', 'Ball_y', 'Frame'], axis=1)\n",
    "\n",
    "    else:\n",
    "\n",
    "        data = data.rename(columns={'Player25': '25_x', 'Unnamed: 4': '25_y', 'Player15': '15_x',\n",
    "                                    'Unnamed: 6': '15_y', 'Player16': '16_x', 'Unnamed: 8': '16_y',\n",
    "                                    'Player17': '17_x', 'Unnamed: 10': '17_y',\n",
    "                                    'Player18': '18_x', 'Unnamed: 12': '18_y', 'Player19': '19_x',\n",
    "                                    'Unnamed: 14': '19_y', 'Player20': '20_x',\n",
    "                                    'Unnamed: 16': '20_y', 'Player21': '21_x', 'Unnamed: 18': '21_y',\n",
    "                                    'Player22': '22_x', 'Unnamed: 20': '22_y',\n",
    "                                    'Player23': '23_x', 'Unnamed: 22': '23_y', 'Player24': '24_x',\n",
    "                                    'Unnamed: 24': '24_y', 'Ball': 'Ball_x', 'Unnamed: 28': 'Ball_y'\n",
    "                                    }).copy()\n",
    "\n",
    "        data.loc[87985:, '22_x'] = data.loc[87985:, 'Player 26']\n",
    "        data.loc[87985:, '22_y'] = data.loc[87985:, 'Unnamed: 26']\n",
    "\n",
    "        data = data.drop(['Player 26', 'Unnamed: 26'\n",
    "                          ], axis=1).copy()\n",
    "        data.to_csv('outputho_data.csv', header=True)\n",
    "\n",
    "        data = data.reindex(\n",
    "            ['Frame', '15_x', '15_y', '16_x', '16_y', '17_x', '17_y', '18_x', '18_y', '19_x', '19_y', '20_x', '20_y',\n",
    "             '21_x', '21_y', '22_x', '22_y', '23_x', '23_y', '24_x', '24_y', '25_x', '25_y', 'Ball_x', 'Ball_y'],\n",
    "            axis=1)\n",
    "\n",
    "    # data = data.head(500)\n",
    "    data = data.dropna(subset=['Ball_x', 'Ball_y'])\n",
    "    data = data.set_index('Frame').copy()\n",
    "    return data\n",
    "data_h = pd.read_csv(folder + '\\\\' + r'Sample_data\\sample-data\\data\\Sample_Game_2\\Sample_Game_2_RawTrackingData_Home_Team.csv', skiprows=2)\n",
    "# print('h done')\n",
    "data_a = pd.read_csv(folder + '\\\\' + r'Sample_data\\sample-data\\data\\Sample_Game_2\\Sample_Game_2_RawTrackingData_Away_Team.csv', skiprows=2, low_memory=False)\n",
    "events = pd.read_csv(folder + '\\\\' + r'Sample_data\\sample-data\\data\\Sample_Game_2\\Sample_Game_2_RawEventsData.csv')\n",
    "df1 = data_cleaning(data_h)\n",
    "df2 = data_cleaning(data_a)\n",
    "df1 = df1.drop(['Ball_x', 'Ball_y'], axis=1).copy()\n",
    "data = pd.merge(df1, df2, left_index=True, right_index=True)"
   ]
  },
  {
   "cell_type": "code",
   "execution_count": 4,
   "id": "56ae939e",
   "metadata": {},
   "outputs": [
    {
     "name": "stdout",
     "output_type": "stream",
     "text": [
      "Period      0\n",
      "Time [s]    0\n",
      "1_x         0\n",
      "1_y         0\n",
      "2_x         0\n",
      "2_y         0\n",
      "3_x         0\n",
      "3_y         0\n",
      "4_x         0\n",
      "4_y         0\n",
      "5_x         0\n",
      "5_y         0\n",
      "6_x         0\n",
      "6_y         0\n",
      "7_x         0\n",
      "7_y         0\n",
      "8_x         0\n",
      "8_y         0\n",
      "9_x         0\n",
      "9_y         0\n",
      "10_x        0\n",
      "10_y        0\n",
      "11_x        0\n",
      "11_y        0\n",
      "15_x        0\n",
      "15_y        0\n",
      "16_x        0\n",
      "16_y        0\n",
      "17_x        0\n",
      "17_y        0\n",
      "18_x        0\n",
      "18_y        0\n",
      "19_x        0\n",
      "19_y        0\n",
      "20_x        0\n",
      "20_y        0\n",
      "21_x        0\n",
      "21_y        0\n",
      "22_x        0\n",
      "22_y        0\n",
      "23_x        0\n",
      "23_y        0\n",
      "24_x        0\n",
      "24_y        0\n",
      "25_x        0\n",
      "25_y        0\n",
      "Ball_x      0\n",
      "Ball_y      0\n",
      "dtype: int64\n"
     ]
    }
   ],
   "source": [
    "print(data.isna().sum())"
   ]
  },
  {
   "cell_type": "code",
   "execution_count": 5,
   "id": "c3f7b18c",
   "metadata": {},
   "outputs": [],
   "source": [
    "data['Time [s]']=data['Time [s]'].astype('int64')\n",
    "\n",
    "# Dropping the duplicates based on time and keeping 1st record of each sec\n",
    "data.drop_duplicates(subset = ['Time [s]'], keep = 'first', inplace = True)\n",
    "\n",
    "# Denormalizing the coordinates\n",
    "for i in data.columns:\n",
    "  if 'x' in i:\n",
    "    data[i]=data[i]*105\n",
    "  elif 'y' in i:\n",
    "    data[i]=data[i]*68"
   ]
  },
  {
   "cell_type": "code",
   "execution_count": 6,
   "id": "fe92aac0",
   "metadata": {},
   "outputs": [],
   "source": [
    "# separating first and second half of the game\n",
    "\n",
    "first_half=data[data['Period']==1]\n",
    "second_half=data[data['Period']==2]\n",
    "\n",
    "# just a way to get coords of a player throughout the game\n",
    "coord=list(zip(data['1_x'].tolist(),data['1_y'].tolist()))"
   ]
  },
  {
   "cell_type": "code",
   "execution_count": 7,
   "id": "f32502ae",
   "metadata": {},
   "outputs": [],
   "source": [
    "# zipping coodinates of players from first half in points_22 in the format frame: [(x,y),....]\n",
    "# points_22 shape is 1987x22x2\n",
    "\n",
    "players_id=[1,2,3,4,5,6,7,8,9,10,11,15,16,17,18,19,20,21,22,23,24,25]\n",
    "points_22={}\n",
    "for count,i in enumerate(first_half.index.tolist()):\n",
    "  x,y=[],[]\n",
    "  for j in players_id:\n",
    "    x.append((first_half[f'{j}_x'].tolist())[count])\n",
    "    y.append((first_half[f'{j}_y'].tolist())[count])\n",
    "  point=zip(x,y)\n",
    "  points_22[i]=list(point)\n",
    "\n",
    "points_22_final={}\n",
    "for count,i in enumerate(second_half.index.tolist()):\n",
    "  x_2,y_2=[],[]\n",
    "  for j in players_id:\n",
    "    x_2.append((second_half[f'{j}_x'].tolist())[count])\n",
    "    y_2.append((second_half[f'{j}_y'].tolist())[count])\n",
    "  point=zip(x_2,y_2)\n",
    "  points_22_final[i]=list(point)\n",
    "\n",
    "ball_first=list(zip(first_half['Ball_x'].values.tolist(),first_half['Ball_y'].values.tolist()))\n",
    "\n",
    "ball_second=list(zip(second_half['Ball_x'].values.tolist(),second_half['Ball_y'].values.tolist()))"
   ]
  },
  {
   "cell_type": "code",
   "execution_count": 30,
   "id": "efe7e95f",
   "metadata": {},
   "outputs": [
    {
     "data": {
      "text/plain": [
       "Int64Index([   51,    75,   100,   125,   150,   175,   200,   225,   250,\n",
       "              275,\n",
       "            ...\n",
       "            67625, 67650, 67675, 67700, 67725, 67750, 67775, 67800, 67825,\n",
       "            67850],\n",
       "           dtype='int64', name='Frame', length=1987)"
      ]
     },
     "execution_count": 30,
     "metadata": {},
     "output_type": "execute_result"
    }
   ],
   "source": [
    "first_half.index"
   ]
  },
  {
   "cell_type": "code",
   "execution_count": 8,
   "id": "b6f2d484",
   "metadata": {},
   "outputs": [],
   "source": [
    "# instant player data captures the player_id, nearest points count from knn, area for each frame\n",
    "# \"Player\", i+1, \"Nearest Points Count:\", count, \"Area : \", (count/(68*105)*1000)\n",
    "# player_count_area_1 is for all frames\n",
    "\n",
    "import numpy as np\n",
    "from sklearn.neighbors import NearestNeighbors\n",
    "\n",
    "# Generate 1000 random points on the soccer field\n",
    "random_points = np.random.uniform(low=[0, 0], high=[105, 68], size=(10000, 2))\n",
    "\n",
    "player_count_area_1 = []\n",
    "\n",
    "# Define the coordinates of the 22 players on the soccer field\n",
    "for i,j in points_22.items():\n",
    "  player_coordinates = points_22[i]\n",
    "\n",
    "\n",
    "# Create a NearestNeighbors object and fit it with player coordinates\n",
    "  knn = NearestNeighbors(n_neighbors=1)\n",
    "  knn.fit(player_coordinates)\n",
    "\n",
    "# Find the nearest neighbor for each random point\n",
    "  distances, indices = knn.kneighbors(random_points)\n",
    "\n",
    "# Count the number of nearest points for each player\n",
    "  nearest_points_count = np.zeros(22)\n",
    "  for index in indices.flatten():\n",
    "      player_index = index  # Assuming the player indices start from 0\n",
    "      nearest_points_count[player_index] += 1\n",
    "\n",
    "  instant_player_data = []\n",
    "\n",
    "\n",
    "# Print the nearest points count for each player\n",
    "  for i, count in enumerate(nearest_points_count):\n",
    "    # print(\"Player\", i+1, \"Nearest Points Count:\", count, \"Area : \", (count/(68*105)*1000))\n",
    "    instant_player_data.append((i+1,int(count), count/(68*105)*1000))\n",
    "  player_count_area_1.append(instant_player_data)"
   ]
  },
  {
   "cell_type": "code",
   "execution_count": 9,
   "id": "d2a588bd",
   "metadata": {},
   "outputs": [],
   "source": [
    "random_points = np.random.uniform(low=[0, 0], high=[105, 68], size=(10000, 2))\n",
    "\n",
    "player_count_area_2 = []\n",
    "\n",
    "# Define the coordinates of the 22 players on the soccer field\n",
    "for i,j in points_22_final.items():\n",
    "  player_coordinates = points_22_final[i]\n",
    "\n",
    "\n",
    "# Create a NearestNeighbors object and fit it with player coordinates\n",
    "  knn = NearestNeighbors(n_neighbors=1)\n",
    "  knn.fit(player_coordinates)\n",
    "\n",
    "# Find the nearest neighbor for each random point\n",
    "  distances, indices = knn.kneighbors(random_points)\n",
    "\n",
    "# Count the number of nearest points for each player\n",
    "  nearest_points_count = np.zeros(22)\n",
    "  for index in indices.flatten():\n",
    "      player_index = index  # Assuming the player indices start from 0\n",
    "      nearest_points_count[player_index] += 1\n",
    "\n",
    "  instant_player_data = []\n",
    "\n",
    "\n",
    "# Print the nearest points count for each player\n",
    "  for i, count in enumerate(nearest_points_count):\n",
    "    # print(\"Player\", i+1, \"Nearest Points Count:\", count, \"Area : \", (count/(68*105)*1000))\n",
    "    instant_player_data.append((i+1,int(count), count/(68*105)*1000))\n",
    "  player_count_area_2.append(instant_player_data)"
   ]
  },
  {
   "cell_type": "code",
   "execution_count": 10,
   "id": "831705ef",
   "metadata": {},
   "outputs": [],
   "source": [
    "# influence is calculated from \"Area : \", (count/(68*105)*1000) where is count is number of nearest points from KNN for all frames\n",
    "# influence format is [[influence of player 1, 2,...],[influence of player 1, 2,...],...]\n",
    "# influence_1half shape is 1987*22*1\n",
    "\n",
    "influence_1half = []\n",
    "\n",
    "for i in range(len(player_count_area_1)):\n",
    "  influence_at_i = [t[2] for t in player_count_area_1[i]]\n",
    "  influence_1half.append(influence_at_i)"
   ]
  },
  {
   "cell_type": "code",
   "execution_count": 11,
   "id": "3aaf349d",
   "metadata": {},
   "outputs": [],
   "source": [
    "influence_2half = []\n",
    "\n",
    "for i in range(len(player_count_area_2)):\n",
    "  influence_at_i = [t[2] for t in player_count_area_2[i]]\n",
    "  influence_2half.append(influence_at_i)"
   ]
  },
  {
   "cell_type": "code",
   "execution_count": 12,
   "id": "305d6e2d",
   "metadata": {},
   "outputs": [],
   "source": [
    "# Space occupancy is for two teams for first half is: SO_A, SO_B\n",
    "# SO_A format is {(frame: Space occupancy)}\n",
    "# SOA_1_zer fills zeroes in frames from 2 to 2714, since size of SO_A is 1987 and max of SO_A is 2714\n",
    "# SO_A shape is 1987x1\n",
    "# SO_A[frame_i] + SO_B[frame_i] = 1\n",
    "\n",
    "indx = first_half.index.tolist()\n",
    "#print(indx)\n",
    "SO_A,SO_B={},{}\n",
    "for coun,indexx in enumerate(indx):\n",
    " # print(coun)\n",
    "  dist_1=[]\n",
    "  tim = first_half.loc[indexx]['Time [s]']\n",
    "  ball = ball_first[coun]\n",
    "  points = points_22[indexx]\n",
    "#   if coun==4:\n",
    "#     print(points)\n",
    "  for i in points:\n",
    "    eucli = math.dist(i, ball)\n",
    "\n",
    "    if eucli!=0:\n",
    "      eucli = (1.00000000 / eucli)\n",
    "      dist_1.append(eucli)\n",
    "    elif eucli==0:\n",
    "      eucli = 1  # if distance less than 1 meter then weightage is 1\n",
    "      dist_1.append(eucli)\n",
    "  IP=influence_1half[coun]\n",
    "\n",
    "\n",
    "  Iteam_A = np.dot(np.array(dist_1[:11]),np.array(IP[:11]))\n",
    "  Iteam_B = np.dot(np.array(dist_1[11:]),np.array(IP[11:]))\n",
    "\n",
    "  w_a = 1/math.dist(ball, (0,68/2))\n",
    "  w_b = 1/math.dist(ball, (105,68/2))\n",
    "  SO_A[tim]= (w_a*Iteam_A)/((w_a*Iteam_A) + (w_b*Iteam_B))\n",
    "  SO_B[tim] = (w_b*Iteam_B)/((w_a*Iteam_A) + (w_b*Iteam_B))\n",
    "# print(SO_A,SO_B)\n",
    "SOA_1_zer,SOB_1_zer={},{}\n",
    "for i in range(2,2715,1):\n",
    "  if  i in SO_A.keys():\n",
    "    SOA_1_zer[i]=SO_A[i]\n",
    "    SOB_1_zer[i]=SO_B[i]\n",
    "  else:\n",
    "    SOA_1_zer[i]=0\n",
    "    SOB_1_zer[i]=0"
   ]
  },
  {
   "cell_type": "code",
   "execution_count": 13,
   "id": "878c7159",
   "metadata": {},
   "outputs": [],
   "source": [
    "# Space occupancy is for two teams for second half is: SO_A_2, SO_B_2\n",
    "# SO_A_2 shape is 1458x1\n",
    "\n",
    "indx = second_half.index.tolist()\n",
    "#print(indx)\n",
    "SO_A_2,SO_B_2={},{}\n",
    "for coun,indexx in enumerate(indx):\n",
    " # print(coun)\n",
    "  dist_1=[]\n",
    "  tim = second_half.loc[indexx]['Time [s]']\n",
    "  ball = ball_second[coun]\n",
    "  points = points_22_final[indexx]\n",
    "#   if coun==4:\n",
    "#     print(points)\n",
    "  for i in points:\n",
    "    eucli = math.dist(i, ball)\n",
    "\n",
    "    if eucli!=0:\n",
    "      eucli = (1.00000000 / eucli)\n",
    "      dist_1.append(eucli)\n",
    "    elif eucli==0:\n",
    "      eucli = 1  # if distance less than 1 meter then weightage is 1\n",
    "      dist_1.append(eucli)\n",
    "  IP=influence_2half[coun]\n",
    "\n",
    "\n",
    "  Iteam_A = np.dot(np.array(dist_1[:11]),np.array(IP[:11]))\n",
    "  Iteam_B = np.dot(np.array(dist_1[11:]),np.array(IP[11:]))\n",
    "\n",
    "  w_a = 1/math.dist(ball, (105,68/2))\n",
    "  w_b = 1/math.dist(ball, (0,68/2))\n",
    "  SO_A_2[tim]= (w_a*Iteam_A)/((w_a*Iteam_A) + (w_b*Iteam_B))\n",
    "  SO_B_2[tim] = (w_b*Iteam_B)/((w_a*Iteam_A) + (w_b*Iteam_B))\n",
    "# print(SO_A_2,SO_B_2)\n",
    "SOA_2_zer,SOB_2_zer={},{}\n",
    "for i in range(2719,5612,1):\n",
    "  if  i in SO_A_2.keys():\n",
    "    SOA_2_zer[i]=SO_A_2[i]\n",
    "    SOB_2_zer[i]=SO_B_2[i]\n",
    "  else:\n",
    "    SOA_2_zer[i]=0\n",
    "    SOB_2_zer[i]=0"
   ]
  },
  {
   "cell_type": "markdown",
   "id": "a95b6000",
   "metadata": {},
   "source": [
    "### SO input for ASTGCN ###"
   ]
  },
  {
   "cell_type": "code",
   "execution_count": 14,
   "id": "286ea31e",
   "metadata": {},
   "outputs": [],
   "source": [
    "# converting Space occupancy values to dataframe, then to array and then saving as npz\n",
    "\n",
    "SO_df = pd.DataFrame(list(zip(SO_A.values(), SO_B.values())), index=[int(i) for i in SO_A.keys()])\n",
    "SO2_df = pd.DataFrame(list(zip(SO_A_2.values(), SO_B_2.values())), index=[int(i) for i in SO_A_2.keys()])\n",
    "SO_combined = pd.concat([SO_df, SO2_df])\n",
    "# Convert the DataFrame to a NumPy array\n",
    "SO_combined_array = SO_combined.to_numpy()\n",
    "\n",
    "# Save the array to a .npz file with a key\n",
    "np.savez_compressed(r'C:\\Users\\Mahender\\Documents\\MS docs\\Final docs\\Rowan University\\Research_project\\ASTGCN\\Space_occupancy.npz',\n",
    "                   data=SO_combined_array)"
   ]
  },
  {
   "cell_type": "markdown",
   "id": "70f763f4",
   "metadata": {},
   "source": [
    "### Influence input for ASTGCN ###"
   ]
  },
  {
   "cell_type": "code",
   "execution_count": 15,
   "id": "25b3849c",
   "metadata": {},
   "outputs": [],
   "source": [
    "# storing influence of first and second half in an npz file\n",
    "\n",
    "influence_1half_array = np.array(influence_1half)\n",
    "influence_2half_array = np.array(influence_2half)\n",
    "combined_influence = np.vstack((influence_1half_array, influence_2half_array))\n",
    "\n",
    "np.savez_compressed(r'C:\\Users\\Mahender\\Documents\\MS docs\\Final docs\\Rowan University\\Research_project\\ASTGCN\\Influence.npz',\n",
    "                   data=combined_influence)"
   ]
  },
  {
   "cell_type": "code",
   "execution_count": 16,
   "id": "2b2f4cdc",
   "metadata": {},
   "outputs": [
    {
     "name": "stdout",
     "output_type": "stream",
     "text": [
      "(3445, 22, 3)\n"
     ]
    }
   ],
   "source": [
    "player_coords = np.vstack((np.array(list(points_22.values())), np.array(list(points_22_final.values()))))\n",
    "# Expanding dimensions of combined_influence to make it (3445, 22, 1)\n",
    "expanded_influence = np.expand_dims(combined_influence, axis=-1)\n",
    "\n",
    "# Concatenating along the third dimension to make the new array (3445, 22, 3)\n",
    "coords_inf_array = np.concatenate((expanded_influence, player_coords), axis=-1)\n",
    "\n",
    "# Now combined_array.shape should be (3445, 22, 3)\n",
    "print(coords_inf_array.shape)\n",
    "\n",
    "np.savez_compressed(r'C:\\Users\\Mahender\\Documents\\MS docs\\Final docs\\Rowan University\\Research_project\\ASTGCN\\Coords_Influence.npz',\n",
    "                   data=coords_inf_array)\n",
    "np.save(r'C:\\Users\\Mahender\\Documents\\MS docs\\Final docs\\Rowan University\\Research_project\\ASTGCN\\Coords_Influence.npy', coords_inf_array)"
   ]
  },
  {
   "cell_type": "markdown",
   "id": "18d9c397",
   "metadata": {},
   "source": [
    "### Ball coords input ###"
   ]
  },
  {
   "cell_type": "code",
   "execution_count": 17,
   "id": "ab56d856",
   "metadata": {},
   "outputs": [
    {
     "name": "stdout",
     "output_type": "stream",
     "text": [
      "(3445, 2)\n"
     ]
    }
   ],
   "source": [
    "ball_coords = np.vstack((np.array(ball_first), np.array(ball_second)))\n",
    "\n",
    "print(ball_coords.shape)\n",
    "\n",
    "np.savez_compressed(r'C:\\Users\\Mahender\\Documents\\MS docs\\Final docs\\Rowan University\\Research_project\\ASTGCN\\Ball_coords.npz',\n",
    "                   data=ball_coords)"
   ]
  },
  {
   "cell_type": "code",
   "execution_count": 18,
   "id": "9a0bead8",
   "metadata": {},
   "outputs": [],
   "source": [
    "# input_1: adjacancy matrices\n",
    "# adjacancy matrices of 22 players for all frames of first half, here points 22 is the coords of all the players in the first half\n",
    "# adj_matrices_c shape is 1987x22x22\n",
    "\n",
    "def adj_mat_c(z_c):\n",
    "    adj_matrices_c = []\n",
    "    dist_matrices_c = []\n",
    "    for index, valu in z_c.items():\n",
    "        distances = cdist(valu, valu, 'euclidean')\n",
    "        dist_matrices_c.append(distances)\n",
    "        adj_matrix_c = np.where(distances<15, 1, 0)\n",
    "        np.fill_diagonal(adj_matrix_c, 0)\n",
    "        adj_matrices_c.append(adj_matrix_c)\n",
    "    return adj_matrices_c, dist_matrices_c\n",
    "adj_matrices_c, dist_matrices_c =adj_mat_c(points_22)\n",
    "adj_matrices_c2, dist_matrices_c2 =adj_mat_c(points_22_final)"
   ]
  },
  {
   "cell_type": "markdown",
   "id": "9b5b8ace",
   "metadata": {},
   "source": [
    "### adj and dist matrices input for ASTGCN ###"
   ]
  },
  {
   "cell_type": "code",
   "execution_count": 19,
   "id": "fdfb7b61",
   "metadata": {},
   "outputs": [],
   "source": [
    "# storing adjacancy and distance matrices in npzy files\n",
    "\n",
    "adj_matrices_c_array = np.array(adj_matrices_c)\n",
    "dist_matrices_c_array = np.array(dist_matrices_c)\n",
    "adj_matrices_c2_array = np.array(adj_matrices_c2)\n",
    "dist_matrices_c2_array = np.array(dist_matrices_c2)\n",
    "\n",
    "combined_adj_matrices = np.vstack((adj_matrices_c_array, adj_matrices_c2_array))\n",
    "combined_dist_matrices = np.vstack((dist_matrices_c_array, dist_matrices_c2_array))\n",
    "\n",
    "np.save(r'C:\\Users\\Mahender\\Documents\\MS docs\\Final docs\\Rowan University\\Research_project\\ASTGCN\\adj_matrices.npy', combined_adj_matrices)\n",
    "np.save(r'C:\\Users\\Mahender\\Documents\\MS docs\\Final docs\\Rowan University\\Research_project\\ASTGCN\\dist_matrices.npy', combined_dist_matrices)"
   ]
  },
  {
   "cell_type": "code",
   "execution_count": 20,
   "id": "e61b60b6",
   "metadata": {},
   "outputs": [],
   "source": [
    "np.save(r'C:\\Users\\Mahender\\Documents\\MS docs\\Final docs\\Rowan University\\Research_project\\ASTGCN\\initial_adj_matrices.npy', combined_adj_matrices[0])\n",
    "np.save(r'C:\\Users\\Mahender\\Documents\\MS docs\\Final docs\\Rowan University\\Research_project\\ASTGCN\\initial_dist_matrices.npy', combined_dist_matrices[0])"
   ]
  },
  {
   "cell_type": "code",
   "execution_count": 21,
   "id": "251bf306",
   "metadata": {},
   "outputs": [],
   "source": [
    "# coords of players for all frames without frame values\n",
    "\n",
    "nested_x_y = [[np.array(t) for t in sublist] for i,sublist in points_22.items()]\n",
    "for i,j in enumerate(nested_x_y):\n",
    "  nested_x_y[i]=np.array(j)"
   ]
  },
  {
   "cell_type": "code",
   "execution_count": 22,
   "id": "df547969",
   "metadata": {},
   "outputs": [],
   "source": [
    "# scipy.sparse.csr_matrix is just a better way to store matrix for faster performance in matrix operations\n",
    "\n",
    "import scipy.sparse as sp\n",
    "adj_matrices=[]\n",
    "for i,j in enumerate(adj_matrices_c):\n",
    "  adj_matrices.append(sp.csr_matrix(j))"
   ]
  },
  {
   "cell_type": "code",
   "execution_count": 23,
   "id": "0e346195",
   "metadata": {},
   "outputs": [],
   "source": [
    "# Space occupancy without frame\n",
    "\n",
    "SO_A[list(SO_A.keys())[0]]\n",
    "SO_A_li=[i for j,i in SO_A.items()]"
   ]
  },
  {
   "cell_type": "code",
   "execution_count": 24,
   "id": "9052c290",
   "metadata": {},
   "outputs": [],
   "source": [
    "data={}\n",
    "data['adj']=adj_matrices\n",
    "data['x']=nested_x_y\n",
    "data['x'] = [np.append(x,np.ones(shape=(len(x), 1)), axis=1\n",
    "            ) for x in data['x']]"
   ]
  },
  {
   "cell_type": "code",
   "execution_count": 25,
   "id": "b2aefb81",
   "metadata": {},
   "outputs": [
    {
     "name": "stdout",
     "output_type": "stream",
     "text": [
      "(68.02635, 18.38108)\n"
     ]
    }
   ],
   "source": [
    "# creating edges\n",
    "\n",
    "ed=[]\n",
    "for i,j in points_22.items():\n",
    "  for k in j:\n",
    "    print(k)\n",
    "    break\n",
    "  break\n",
    "\n",
    "len(points_22[33550])\n",
    "\n",
    "# for i,j in points_22.items():\n",
    "#   distances = cdist(j, j, 'euclidean')\n",
    "#   np.fill_diagonal(distances, 0)\n",
    "#   empty_array_e = np.empty((0,))\n",
    "#   for p in distances:\n",
    "#     for  pd in p:\n",
    "#     #   empty_array = np.array([])\n",
    "#     #   empty_array = np.append(empty_array, np.array([pd]))\n",
    "#       empty_array_e = np.vstack((empty_array_e, np.array([pd])))\n",
    "\n",
    "\n",
    "#   ed.append(empty_array_e)\n",
    "\n",
    "for i,j in points_22.items():\n",
    "  distances = cdist(j, j, 'euclidean')\n",
    "  np.fill_diagonal(distances, -1)\n",
    "  l=[]\n",
    "  for row,p in enumerate(distances):\n",
    "    for column, p_d in enumerate(p):\n",
    "      if p_d<15 and p_d!=-1:\n",
    "        li=[]\n",
    "        li.append(p_d)\n",
    "        l.append(li)\n",
    "\n",
    "  ed.append(l)\n",
    "for ind,i in enumerate(ed):\n",
    "\n",
    "  for ik,k in enumerate(i):\n",
    "    i[ik]=np.array(k)\n",
    "\n",
    "  ed[ind]=np.array(i)\n",
    "for i in ed:\n",
    "  for j in i:\n",
    "    if len(j)!=1:\n",
    "      raise Exception"
   ]
  },
  {
   "cell_type": "code",
   "execution_count": 26,
   "id": "16bdb576",
   "metadata": {},
   "outputs": [],
   "source": [
    "data['e']=ed"
   ]
  },
  {
   "cell_type": "code",
   "execution_count": 27,
   "id": "7b05d0cb",
   "metadata": {},
   "outputs": [],
   "source": [
    "# from spektral.data import Dataset, Graph\n",
    "\n",
    "# class CounterDataset(Dataset):\n",
    "#     def __init__(self,  **kwargs):\n",
    "#         super().__init__(**kwargs)\n",
    "#         self.data = kwargs['data']\n",
    "#         self.SO_A = kwargs['SO_A']\n",
    "\n",
    "#     def read(self):\n",
    "#         data=self.data\n",
    "#         graphs = []\n",
    "#         for adj_matrix,x, e,label in zip(data['adj'],data['x'],data['e'], self.SO_A):\n",
    "#             graph = Graph(x=x,a=adj_matrix, e=e, y=label)\n",
    "#             graphs.append(graph)\n",
    "#         return graphs"
   ]
  },
  {
   "cell_type": "code",
   "execution_count": 28,
   "id": "0f5a927b",
   "metadata": {},
   "outputs": [],
   "source": [
    "# dataset = CounterDataset(data=data,SO_A= SO_A_li)"
   ]
  },
  {
   "cell_type": "code",
   "execution_count": 29,
   "id": "07983673",
   "metadata": {},
   "outputs": [],
   "source": [
    "# pip install torch_scatter torch_sparse torch_cluster torch_spline_conv -f https://data.pyg.org/whl/torch-2.0.0+cu118.html"
   ]
  }
 ],
 "metadata": {
  "kernelspec": {
   "display_name": "Python 3 (ipykernel)",
   "language": "python",
   "name": "python3"
  },
  "language_info": {
   "codemirror_mode": {
    "name": "ipython",
    "version": 3
   },
   "file_extension": ".py",
   "mimetype": "text/x-python",
   "name": "python",
   "nbconvert_exporter": "python",
   "pygments_lexer": "ipython3",
   "version": "3.10.1"
  }
 },
 "nbformat": 4,
 "nbformat_minor": 5
}
